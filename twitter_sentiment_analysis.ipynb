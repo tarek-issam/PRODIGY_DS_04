{
 "cells": [
  {
   "cell_type": "markdown",
   "id": "704b96f8-c945-4cff-a13e-dddb1ac1e2a8",
   "metadata": {},
   "source": [
    "<h1><b>Importing the necessary libraries</b></h1>"
   ]
  },
  {
   "cell_type": "code",
   "execution_count": 2,
   "id": "fb167597-5e82-49db-b61a-348c37db7849",
   "metadata": {},
   "outputs": [],
   "source": [
    "from sklearn.feature_extraction.text import CountVectorizer\n",
    "from nltk.corpus import stopwords\n",
    "from nltk.tokenize import word_tokenize,sent_tokenize\n",
    "import re,string,unicodedata\n",
    "from textblob import Word\n",
    "from sklearn.metrics import classification_report,confusion_matrix,accuracy_score\n",
    "from bs4 import BeautifulSoup\n",
    "from nltk.corpus import stopwords  \n",
    "from nltk.tokenize import word_tokenize \n",
    "from sklearn import tree \n",
    "from sklearn.tree import DecisionTreeClassifier \n",
    "from sklearn.naive_bayes import MultinomialNB\n",
    "import pandas as pd\n",
    "import numpy as np\n",
    "from sklearn.linear_model import LogisticRegression\n",
    "from sklearn.decomposition import PCA, TruncatedSVD\n",
    "from nltk.stem.porter import PorterStemmer\n",
    "import nltk"
   ]
  },
  {
   "cell_type": "markdown",
   "id": "9e81af72-1c8c-46cb-ad34-8912c070d1a8",
   "metadata": {},
   "source": [
    "<h1><b>Importing and exploring the data</b></h1>"
   ]
  },
  {
   "cell_type": "code",
   "execution_count": 3,
   "id": "50aaf7bb-3dca-4dd1-8470-d8bef29b2715",
   "metadata": {},
   "outputs": [],
   "source": [
    "data = pd.read_csv('twitter_training.csv')\n",
    "vdata = pd.read_csv('twitter_validation.csv')"
   ]
  },
  {
   "cell_type": "code",
   "execution_count": 4,
   "id": "bb341efb-85ed-4d9a-9a30-739fb419e000",
   "metadata": {},
   "outputs": [],
   "source": [
    "column_names = ['ID', 'platform', 'type','review']\n",
    "vdata.columns = column_names\n"
   ]
  },
  {
   "cell_type": "code",
   "execution_count": 5,
   "id": "a051684f-fc2b-4184-a76d-fc2f8cec9533",
   "metadata": {},
   "outputs": [
    {
     "data": {
      "text/html": [
       "<div>\n",
       "<style scoped>\n",
       "    .dataframe tbody tr th:only-of-type {\n",
       "        vertical-align: middle;\n",
       "    }\n",
       "\n",
       "    .dataframe tbody tr th {\n",
       "        vertical-align: top;\n",
       "    }\n",
       "\n",
       "    .dataframe thead th {\n",
       "        text-align: right;\n",
       "    }\n",
       "</style>\n",
       "<table border=\"1\" class=\"dataframe\">\n",
       "  <thead>\n",
       "    <tr style=\"text-align: right;\">\n",
       "      <th></th>\n",
       "      <th>ID</th>\n",
       "      <th>platform</th>\n",
       "      <th>type</th>\n",
       "      <th>review</th>\n",
       "    </tr>\n",
       "  </thead>\n",
       "  <tbody>\n",
       "    <tr>\n",
       "      <th>0</th>\n",
       "      <td>352</td>\n",
       "      <td>Amazon</td>\n",
       "      <td>Neutral</td>\n",
       "      <td>BBC News - Amazon boss Jeff Bezos rejects clai...</td>\n",
       "    </tr>\n",
       "    <tr>\n",
       "      <th>1</th>\n",
       "      <td>8312</td>\n",
       "      <td>Microsoft</td>\n",
       "      <td>Negative</td>\n",
       "      <td>@Microsoft Why do I pay for WORD when it funct...</td>\n",
       "    </tr>\n",
       "    <tr>\n",
       "      <th>2</th>\n",
       "      <td>4371</td>\n",
       "      <td>CS-GO</td>\n",
       "      <td>Negative</td>\n",
       "      <td>CSGO matchmaking is so full of closet hacking,...</td>\n",
       "    </tr>\n",
       "    <tr>\n",
       "      <th>3</th>\n",
       "      <td>4433</td>\n",
       "      <td>Google</td>\n",
       "      <td>Neutral</td>\n",
       "      <td>Now the President is slapping Americans in the...</td>\n",
       "    </tr>\n",
       "    <tr>\n",
       "      <th>4</th>\n",
       "      <td>6273</td>\n",
       "      <td>FIFA</td>\n",
       "      <td>Negative</td>\n",
       "      <td>Hi @EAHelp I’ve had Madeleine McCann in my cel...</td>\n",
       "    </tr>\n",
       "  </tbody>\n",
       "</table>\n",
       "</div>"
      ],
      "text/plain": [
       "     ID   platform      type  \\\n",
       "0   352     Amazon   Neutral   \n",
       "1  8312  Microsoft  Negative   \n",
       "2  4371      CS-GO  Negative   \n",
       "3  4433     Google   Neutral   \n",
       "4  6273       FIFA  Negative   \n",
       "\n",
       "                                              review  \n",
       "0  BBC News - Amazon boss Jeff Bezos rejects clai...  \n",
       "1  @Microsoft Why do I pay for WORD when it funct...  \n",
       "2  CSGO matchmaking is so full of closet hacking,...  \n",
       "3  Now the President is slapping Americans in the...  \n",
       "4  Hi @EAHelp I’ve had Madeleine McCann in my cel...  "
      ]
     },
     "execution_count": 5,
     "metadata": {},
     "output_type": "execute_result"
    }
   ],
   "source": [
    "vdata.head()"
   ]
  },
  {
   "cell_type": "code",
   "execution_count": 6,
   "id": "4a7b1305-8cc6-4f1a-b588-2bb83e61da10",
   "metadata": {},
   "outputs": [],
   "source": [
    "column_names = ['ID', 'platform', 'type','review']\n",
    "data.columns = column_names"
   ]
  },
  {
   "cell_type": "code",
   "execution_count": 7,
   "id": "9cbc78a9-0624-46b0-9754-92573d575bcc",
   "metadata": {},
   "outputs": [
    {
     "data": {
      "text/html": [
       "<div>\n",
       "<style scoped>\n",
       "    .dataframe tbody tr th:only-of-type {\n",
       "        vertical-align: middle;\n",
       "    }\n",
       "\n",
       "    .dataframe tbody tr th {\n",
       "        vertical-align: top;\n",
       "    }\n",
       "\n",
       "    .dataframe thead th {\n",
       "        text-align: right;\n",
       "    }\n",
       "</style>\n",
       "<table border=\"1\" class=\"dataframe\">\n",
       "  <thead>\n",
       "    <tr style=\"text-align: right;\">\n",
       "      <th></th>\n",
       "      <th>ID</th>\n",
       "      <th>platform</th>\n",
       "      <th>type</th>\n",
       "      <th>review</th>\n",
       "    </tr>\n",
       "  </thead>\n",
       "  <tbody>\n",
       "    <tr>\n",
       "      <th>0</th>\n",
       "      <td>2401</td>\n",
       "      <td>Borderlands</td>\n",
       "      <td>Positive</td>\n",
       "      <td>I am coming to the borders and I will kill you...</td>\n",
       "    </tr>\n",
       "    <tr>\n",
       "      <th>1</th>\n",
       "      <td>2401</td>\n",
       "      <td>Borderlands</td>\n",
       "      <td>Positive</td>\n",
       "      <td>im getting on borderlands and i will kill you ...</td>\n",
       "    </tr>\n",
       "    <tr>\n",
       "      <th>2</th>\n",
       "      <td>2401</td>\n",
       "      <td>Borderlands</td>\n",
       "      <td>Positive</td>\n",
       "      <td>im coming on borderlands and i will murder you...</td>\n",
       "    </tr>\n",
       "    <tr>\n",
       "      <th>3</th>\n",
       "      <td>2401</td>\n",
       "      <td>Borderlands</td>\n",
       "      <td>Positive</td>\n",
       "      <td>im getting on borderlands 2 and i will murder ...</td>\n",
       "    </tr>\n",
       "    <tr>\n",
       "      <th>4</th>\n",
       "      <td>2401</td>\n",
       "      <td>Borderlands</td>\n",
       "      <td>Positive</td>\n",
       "      <td>im getting into borderlands and i can murder y...</td>\n",
       "    </tr>\n",
       "  </tbody>\n",
       "</table>\n",
       "</div>"
      ],
      "text/plain": [
       "     ID     platform      type  \\\n",
       "0  2401  Borderlands  Positive   \n",
       "1  2401  Borderlands  Positive   \n",
       "2  2401  Borderlands  Positive   \n",
       "3  2401  Borderlands  Positive   \n",
       "4  2401  Borderlands  Positive   \n",
       "\n",
       "                                              review  \n",
       "0  I am coming to the borders and I will kill you...  \n",
       "1  im getting on borderlands and i will kill you ...  \n",
       "2  im coming on borderlands and i will murder you...  \n",
       "3  im getting on borderlands 2 and i will murder ...  \n",
       "4  im getting into borderlands and i can murder y...  "
      ]
     },
     "execution_count": 7,
     "metadata": {},
     "output_type": "execute_result"
    }
   ],
   "source": [
    "data.head()"
   ]
  },
  {
   "cell_type": "code",
   "execution_count": 8,
   "id": "b9944af8-a9d2-40ed-aea1-9cb15c516883",
   "metadata": {},
   "outputs": [
    {
     "data": {
      "text/plain": [
       "<bound method NDFrame.describe of          ID     platform      type  \\\n",
       "0      2401  Borderlands  Positive   \n",
       "1      2401  Borderlands  Positive   \n",
       "2      2401  Borderlands  Positive   \n",
       "3      2401  Borderlands  Positive   \n",
       "4      2401  Borderlands  Positive   \n",
       "...     ...          ...       ...   \n",
       "74676  9200       Nvidia  Positive   \n",
       "74677  9200       Nvidia  Positive   \n",
       "74678  9200       Nvidia  Positive   \n",
       "74679  9200       Nvidia  Positive   \n",
       "74680  9200       Nvidia  Positive   \n",
       "\n",
       "                                                  review  \n",
       "0      I am coming to the borders and I will kill you...  \n",
       "1      im getting on borderlands and i will kill you ...  \n",
       "2      im coming on borderlands and i will murder you...  \n",
       "3      im getting on borderlands 2 and i will murder ...  \n",
       "4      im getting into borderlands and i can murder y...  \n",
       "...                                                  ...  \n",
       "74676  Just realized that the Windows partition of my...  \n",
       "74677  Just realized that my Mac window partition is ...  \n",
       "74678  Just realized the windows partition of my Mac ...  \n",
       "74679  Just realized between the windows partition of...  \n",
       "74680  Just like the windows partition of my Mac is l...  \n",
       "\n",
       "[74681 rows x 4 columns]>"
      ]
     },
     "execution_count": 8,
     "metadata": {},
     "output_type": "execute_result"
    }
   ],
   "source": [
    "data.describe"
   ]
  },
  {
   "cell_type": "code",
   "execution_count": 9,
   "id": "95390b96-18f6-454b-bbe6-c4d3a5745641",
   "metadata": {},
   "outputs": [],
   "source": [
    "data.dropna(axis=0, subset=['review'], inplace=True)\n",
    "vdata.dropna(axis=0, subset=['review'], inplace=True)"
   ]
  },
  {
   "cell_type": "code",
   "execution_count": 10,
   "id": "be97af56-d4c5-464b-89bb-eebeb2086947",
   "metadata": {},
   "outputs": [
    {
     "data": {
      "text/plain": [
       "ID          False\n",
       "platform    False\n",
       "type        False\n",
       "review      False\n",
       "dtype: bool"
      ]
     },
     "execution_count": 10,
     "metadata": {},
     "output_type": "execute_result"
    }
   ],
   "source": [
    "data.isnull().any()"
   ]
  },
  {
   "cell_type": "code",
   "execution_count": 11,
   "id": "61ad013e-34e0-4a96-9c2e-d0f5237226a9",
   "metadata": {},
   "outputs": [
    {
     "data": {
      "text/plain": [
       "ID          False\n",
       "platform    False\n",
       "type        False\n",
       "review      False\n",
       "dtype: bool"
      ]
     },
     "execution_count": 11,
     "metadata": {},
     "output_type": "execute_result"
    }
   ],
   "source": [
    "vdata.isnull().any()"
   ]
  },
  {
   "cell_type": "code",
   "execution_count": 12,
   "id": "71e7f208-7802-4d95-bfbe-42633ca1f62a",
   "metadata": {},
   "outputs": [
    {
     "data": {
      "text/plain": [
       "(73995, 4)"
      ]
     },
     "execution_count": 12,
     "metadata": {},
     "output_type": "execute_result"
    }
   ],
   "source": [
    "data.shape"
   ]
  },
  {
   "cell_type": "code",
   "execution_count": 13,
   "id": "47ac89d2-677a-4b99-8390-44520c66fd78",
   "metadata": {
    "scrolled": true
   },
   "outputs": [
    {
     "data": {
      "text/plain": [
       "(999, 4)"
      ]
     },
     "execution_count": 13,
     "metadata": {},
     "output_type": "execute_result"
    }
   ],
   "source": [
    "vdata.shape"
   ]
  },
  {
   "cell_type": "code",
   "execution_count": 2,
   "id": "b56770a1-bf73-4128-ab9d-4b6f2b259b90",
   "metadata": {},
   "outputs": [],
   "source": [
    "#checking the distribution of reviews per platform, appearantly the distribution is uniform which means there are almost same number \n",
    "# of reviews per platform "
   ]
  },
  {
   "cell_type": "code",
   "execution_count": 14,
   "id": "a0db3a35-173c-4a8e-a63a-067fdacce1aa",
   "metadata": {},
   "outputs": [
    {
     "data": {
      "text/plain": [
       "<Axes: >"
      ]
     },
     "execution_count": 14,
     "metadata": {},
     "output_type": "execute_result"
    },
    {
     "data": {
      "image/png": "[encoded data removed]",
      "text/plain": [
       "<Figure size 2500x1000 with 1 Axes>"
      ]
     },
     "metadata": {},
     "output_type": "display_data"
    }
   ],
   "source": [
    "data[\"platform\"].hist(orientation='horizontal', bins=32, figsize=(25,10))"
   ]
  },
  {
   "cell_type": "code",
   "execution_count": 3,
   "id": "245ebc83-8e9b-4482-a316-3111082358d5",
   "metadata": {},
   "outputs": [],
   "source": [
    "# as it is apparant every operation we do it for the training set we mirror it on the test set "
   ]
  },
  {
   "cell_type": "code",
   "execution_count": 15,
   "id": "65ecca4d-76e7-40bd-8c85-00fd63713c19",
   "metadata": {},
   "outputs": [
    {
     "data": {
      "text/html": [
       "<div>\n",
       "<style scoped>\n",
       "    .dataframe tbody tr th:only-of-type {\n",
       "        vertical-align: middle;\n",
       "    }\n",
       "\n",
       "    .dataframe tbody tr th {\n",
       "        vertical-align: top;\n",
       "    }\n",
       "\n",
       "    .dataframe thead th {\n",
       "        text-align: right;\n",
       "    }\n",
       "</style>\n",
       "<table border=\"1\" class=\"dataframe\">\n",
       "  <thead>\n",
       "    <tr style=\"text-align: right;\">\n",
       "      <th></th>\n",
       "      <th>platform</th>\n",
       "      <th>type</th>\n",
       "      <th>review</th>\n",
       "    </tr>\n",
       "  </thead>\n",
       "  <tbody>\n",
       "    <tr>\n",
       "      <th>0</th>\n",
       "      <td>Borderlands</td>\n",
       "      <td>Positive</td>\n",
       "      <td>I am coming to the borders and I will kill you...</td>\n",
       "    </tr>\n",
       "    <tr>\n",
       "      <th>1</th>\n",
       "      <td>Borderlands</td>\n",
       "      <td>Positive</td>\n",
       "      <td>im getting on borderlands and i will kill you ...</td>\n",
       "    </tr>\n",
       "    <tr>\n",
       "      <th>2</th>\n",
       "      <td>Borderlands</td>\n",
       "      <td>Positive</td>\n",
       "      <td>im coming on borderlands and i will murder you...</td>\n",
       "    </tr>\n",
       "    <tr>\n",
       "      <th>3</th>\n",
       "      <td>Borderlands</td>\n",
       "      <td>Positive</td>\n",
       "      <td>im getting on borderlands 2 and i will murder ...</td>\n",
       "    </tr>\n",
       "    <tr>\n",
       "      <th>4</th>\n",
       "      <td>Borderlands</td>\n",
       "      <td>Positive</td>\n",
       "      <td>im getting into borderlands and i can murder y...</td>\n",
       "    </tr>\n",
       "  </tbody>\n",
       "</table>\n",
       "</div>"
      ],
      "text/plain": [
       "      platform      type                                             review\n",
       "0  Borderlands  Positive  I am coming to the borders and I will kill you...\n",
       "1  Borderlands  Positive  im getting on borderlands and i will kill you ...\n",
       "2  Borderlands  Positive  im coming on borderlands and i will murder you...\n",
       "3  Borderlands  Positive  im getting on borderlands 2 and i will murder ...\n",
       "4  Borderlands  Positive  im getting into borderlands and i can murder y..."
      ]
     },
     "execution_count": 15,
     "metadata": {},
     "output_type": "execute_result"
    }
   ],
   "source": [
    "data.drop(['ID'], axis=1, inplace=True)\n",
    "data.head()"
   ]
  },
  {
   "cell_type": "code",
   "execution_count": 16,
   "id": "d5957ccc-9ea9-456f-8600-d23860077198",
   "metadata": {},
   "outputs": [
    {
     "data": {
      "text/html": [
       "<div>\n",
       "<style scoped>\n",
       "    .dataframe tbody tr th:only-of-type {\n",
       "        vertical-align: middle;\n",
       "    }\n",
       "\n",
       "    .dataframe tbody tr th {\n",
       "        vertical-align: top;\n",
       "    }\n",
       "\n",
       "    .dataframe thead th {\n",
       "        text-align: right;\n",
       "    }\n",
       "</style>\n",
       "<table border=\"1\" class=\"dataframe\">\n",
       "  <thead>\n",
       "    <tr style=\"text-align: right;\">\n",
       "      <th></th>\n",
       "      <th>platform</th>\n",
       "      <th>type</th>\n",
       "      <th>review</th>\n",
       "    </tr>\n",
       "  </thead>\n",
       "  <tbody>\n",
       "    <tr>\n",
       "      <th>0</th>\n",
       "      <td>Amazon</td>\n",
       "      <td>Neutral</td>\n",
       "      <td>BBC News - Amazon boss Jeff Bezos rejects clai...</td>\n",
       "    </tr>\n",
       "    <tr>\n",
       "      <th>1</th>\n",
       "      <td>Microsoft</td>\n",
       "      <td>Negative</td>\n",
       "      <td>@Microsoft Why do I pay for WORD when it funct...</td>\n",
       "    </tr>\n",
       "    <tr>\n",
       "      <th>2</th>\n",
       "      <td>CS-GO</td>\n",
       "      <td>Negative</td>\n",
       "      <td>CSGO matchmaking is so full of closet hacking,...</td>\n",
       "    </tr>\n",
       "    <tr>\n",
       "      <th>3</th>\n",
       "      <td>Google</td>\n",
       "      <td>Neutral</td>\n",
       "      <td>Now the President is slapping Americans in the...</td>\n",
       "    </tr>\n",
       "    <tr>\n",
       "      <th>4</th>\n",
       "      <td>FIFA</td>\n",
       "      <td>Negative</td>\n",
       "      <td>Hi @EAHelp I’ve had Madeleine McCann in my cel...</td>\n",
       "    </tr>\n",
       "  </tbody>\n",
       "</table>\n",
       "</div>"
      ],
      "text/plain": [
       "    platform      type                                             review\n",
       "0     Amazon   Neutral  BBC News - Amazon boss Jeff Bezos rejects clai...\n",
       "1  Microsoft  Negative  @Microsoft Why do I pay for WORD when it funct...\n",
       "2      CS-GO  Negative  CSGO matchmaking is so full of closet hacking,...\n",
       "3     Google   Neutral  Now the President is slapping Americans in the...\n",
       "4       FIFA  Negative  Hi @EAHelp I’ve had Madeleine McCann in my cel..."
      ]
     },
     "execution_count": 16,
     "metadata": {},
     "output_type": "execute_result"
    }
   ],
   "source": [
    "vdata.drop(['ID'], axis=1, inplace=True)\n",
    "vdata.head()"
   ]
  },
  {
   "cell_type": "code",
   "execution_count": 17,
   "id": "75f80b5a-386b-414c-bb80-28ce4b663852",
   "metadata": {},
   "outputs": [
    {
     "data": {
      "text/plain": [
       "<Axes: >"
      ]
     },
     "execution_count": 17,
     "metadata": {},
     "output_type": "execute_result"
    },
    {
     "data": {
      "image/png": "[encoded data removed]",
      "text/plain": [
       "<Figure size 2500x1000 with 1 Axes>"
      ]
     },
     "metadata": {},
     "output_type": "display_data"
    }
   ],
   "source": [
    "vdata[\"platform\"].hist(orientation='horizontal', bins=20, figsize=(25,10))"
   ]
  },
  {
   "cell_type": "code",
   "execution_count": 18,
   "id": "fe541021-15c7-4531-b9d8-cdeb62055a12",
   "metadata": {},
   "outputs": [
    {
     "data": {
      "text/plain": [
       "array(['Amazon', 'Microsoft', 'CS-GO', 'Google', 'FIFA', 'MaddenNFL',\n",
       "       'TomClancysRainbowSix', 'AssassinsCreed', 'CallOfDuty', 'Dota2',\n",
       "       'Verizon', 'NBA2K', 'Nvidia', 'GrandTheftAuto(GTA)',\n",
       "       'RedDeadRedemption(RDR)', 'Hearthstone', 'ApexLegends',\n",
       "       'Overwatch', 'PlayerUnknownsBattlegrounds(PUBG)', 'Borderlands',\n",
       "       'PlayStation5(PS5)', 'johnson&johnson', 'Fortnite',\n",
       "       'Xbox(Xseries)', 'CallOfDutyBlackopsColdWar', 'Facebook',\n",
       "       'HomeDepot', 'Cyberpunk2077', 'TomClancysGhostRecon',\n",
       "       'WorldOfCraft', 'LeagueOfLegends', 'Battlefield'], dtype=object)"
      ]
     },
     "execution_count": 18,
     "metadata": {},
     "output_type": "execute_result"
    }
   ],
   "source": [
    "vdata['platform'].unique()"
   ]
  },
  {
   "cell_type": "code",
   "execution_count": 19,
   "id": "963e9798-7368-4e74-8f16-065bd0bc0cdc",
   "metadata": {},
   "outputs": [
    {
     "data": {
      "text/plain": [
       "array(['Borderlands', 'CallOfDutyBlackopsColdWar', 'Amazon', 'Overwatch',\n",
       "       'Xbox(Xseries)', 'NBA2K', 'Dota2', 'PlayStation5(PS5)',\n",
       "       'WorldOfCraft', 'CS-GO', 'Google', 'AssassinsCreed', 'ApexLegends',\n",
       "       'LeagueOfLegends', 'Fortnite', 'Microsoft', 'Hearthstone',\n",
       "       'Battlefield', 'PlayerUnknownsBattlegrounds(PUBG)', 'Verizon',\n",
       "       'HomeDepot', 'FIFA', 'RedDeadRedemption(RDR)', 'CallOfDuty',\n",
       "       'TomClancysRainbowSix', 'Facebook', 'GrandTheftAuto(GTA)',\n",
       "       'MaddenNFL', 'johnson&johnson', 'Cyberpunk2077',\n",
       "       'TomClancysGhostRecon', 'Nvidia'], dtype=object)"
      ]
     },
     "execution_count": 19,
     "metadata": {},
     "output_type": "execute_result"
    }
   ],
   "source": [
    "data['platform'].unique()"
   ]
  },
  {
   "cell_type": "code",
   "execution_count": 4,
   "id": "c6b66953-c92f-4a1f-9b2d-0b0afa869469",
   "metadata": {},
   "outputs": [],
   "source": [
    "# here we are assuring that every category found into the validation set is present in the training set that is essential for \n",
    "# the comming encoding and training steps "
   ]
  },
  {
   "cell_type": "code",
   "execution_count": 20,
   "id": "bf9615d3-0693-4f39-8d9d-1b1717cee8db",
   "metadata": {},
   "outputs": [
    {
     "data": {
      "text/plain": [
       "True"
      ]
     },
     "execution_count": 20,
     "metadata": {},
     "output_type": "execute_result"
    }
   ],
   "source": [
    "truthy = set(vdata['platform'].str.lower()).issubset(set(data['platform'].str.lower()))\n",
    "truthy"
   ]
  },
  {
   "cell_type": "code",
   "execution_count": 21,
   "id": "f58dfe8a-4b00-4f68-a8c8-1e48125a128e",
   "metadata": {},
   "outputs": [
    {
     "data": {
      "text/plain": [
       "True"
      ]
     },
     "execution_count": 21,
     "metadata": {},
     "output_type": "execute_result"
    }
   ],
   "source": [
    "truthy_2 = set(vdata['type'].str.lower()).issubset(set(data['type'].str.lower()))\n",
    "truthy_2"
   ]
  },
  {
   "cell_type": "code",
   "execution_count": 22,
   "id": "0012c7fe-5ee4-4bdc-bce5-3057c4a6d347",
   "metadata": {},
   "outputs": [],
   "source": [
    "cat_data = data['platform'].copy()\n",
    "y_train = data['type'].copy()\n",
    "vect_data = data['review'].copy()\n",
    "\n",
    "\n",
    "\n",
    "cat_vdata = vdata['platform'].copy()\n",
    "y_test = vdata['type'].copy()\n",
    "vect_vdata = vdata['review'].copy()\n"
   ]
  },
  {
   "cell_type": "code",
   "execution_count": 5,
   "id": "cf014a99-88b7-4bd9-8da3-4ef3e174c411",
   "metadata": {},
   "outputs": [],
   "source": [
    "# here i transformed the categories found into the platform column into columns and then for each record we put a one in the corresponding column "
   ]
  },
  {
   "cell_type": "code",
   "execution_count": 23,
   "id": "b7067452-9252-4b87-9963-654a1fd6d543",
   "metadata": {},
   "outputs": [
    {
     "data": {
      "text/html": [
       "<div>\n",
       "<style scoped>\n",
       "    .dataframe tbody tr th:only-of-type {\n",
       "        vertical-align: middle;\n",
       "    }\n",
       "\n",
       "    .dataframe tbody tr th {\n",
       "        vertical-align: top;\n",
       "    }\n",
       "\n",
       "    .dataframe thead th {\n",
       "        text-align: right;\n",
       "    }\n",
       "</style>\n",
       "<table border=\"1\" class=\"dataframe\">\n",
       "  <thead>\n",
       "    <tr style=\"text-align: right;\">\n",
       "      <th></th>\n",
       "      <th>Amazon</th>\n",
       "      <th>ApexLegends</th>\n",
       "      <th>AssassinsCreed</th>\n",
       "      <th>Battlefield</th>\n",
       "      <th>Borderlands</th>\n",
       "      <th>CS-GO</th>\n",
       "      <th>CallOfDuty</th>\n",
       "      <th>CallOfDutyBlackopsColdWar</th>\n",
       "      <th>Cyberpunk2077</th>\n",
       "      <th>Dota2</th>\n",
       "      <th>...</th>\n",
       "      <th>Overwatch</th>\n",
       "      <th>PlayStation5(PS5)</th>\n",
       "      <th>PlayerUnknownsBattlegrounds(PUBG)</th>\n",
       "      <th>RedDeadRedemption(RDR)</th>\n",
       "      <th>TomClancysGhostRecon</th>\n",
       "      <th>TomClancysRainbowSix</th>\n",
       "      <th>Verizon</th>\n",
       "      <th>WorldOfCraft</th>\n",
       "      <th>Xbox(Xseries)</th>\n",
       "      <th>johnson&amp;johnson</th>\n",
       "    </tr>\n",
       "  </thead>\n",
       "  <tbody>\n",
       "    <tr>\n",
       "      <th>0</th>\n",
       "      <td>0</td>\n",
       "      <td>0</td>\n",
       "      <td>0</td>\n",
       "      <td>0</td>\n",
       "      <td>1</td>\n",
       "      <td>0</td>\n",
       "      <td>0</td>\n",
       "      <td>0</td>\n",
       "      <td>0</td>\n",
       "      <td>0</td>\n",
       "      <td>...</td>\n",
       "      <td>0</td>\n",
       "      <td>0</td>\n",
       "      <td>0</td>\n",
       "      <td>0</td>\n",
       "      <td>0</td>\n",
       "      <td>0</td>\n",
       "      <td>0</td>\n",
       "      <td>0</td>\n",
       "      <td>0</td>\n",
       "      <td>0</td>\n",
       "    </tr>\n",
       "    <tr>\n",
       "      <th>1</th>\n",
       "      <td>0</td>\n",
       "      <td>0</td>\n",
       "      <td>0</td>\n",
       "      <td>0</td>\n",
       "      <td>1</td>\n",
       "      <td>0</td>\n",
       "      <td>0</td>\n",
       "      <td>0</td>\n",
       "      <td>0</td>\n",
       "      <td>0</td>\n",
       "      <td>...</td>\n",
       "      <td>0</td>\n",
       "      <td>0</td>\n",
       "      <td>0</td>\n",
       "      <td>0</td>\n",
       "      <td>0</td>\n",
       "      <td>0</td>\n",
       "      <td>0</td>\n",
       "      <td>0</td>\n",
       "      <td>0</td>\n",
       "      <td>0</td>\n",
       "    </tr>\n",
       "    <tr>\n",
       "      <th>2</th>\n",
       "      <td>0</td>\n",
       "      <td>0</td>\n",
       "      <td>0</td>\n",
       "      <td>0</td>\n",
       "      <td>1</td>\n",
       "      <td>0</td>\n",
       "      <td>0</td>\n",
       "      <td>0</td>\n",
       "      <td>0</td>\n",
       "      <td>0</td>\n",
       "      <td>...</td>\n",
       "      <td>0</td>\n",
       "      <td>0</td>\n",
       "      <td>0</td>\n",
       "      <td>0</td>\n",
       "      <td>0</td>\n",
       "      <td>0</td>\n",
       "      <td>0</td>\n",
       "      <td>0</td>\n",
       "      <td>0</td>\n",
       "      <td>0</td>\n",
       "    </tr>\n",
       "    <tr>\n",
       "      <th>3</th>\n",
       "      <td>0</td>\n",
       "      <td>0</td>\n",
       "      <td>0</td>\n",
       "      <td>0</td>\n",
       "      <td>1</td>\n",
       "      <td>0</td>\n",
       "      <td>0</td>\n",
       "      <td>0</td>\n",
       "      <td>0</td>\n",
       "      <td>0</td>\n",
       "      <td>...</td>\n",
       "      <td>0</td>\n",
       "      <td>0</td>\n",
       "      <td>0</td>\n",
       "      <td>0</td>\n",
       "      <td>0</td>\n",
       "      <td>0</td>\n",
       "      <td>0</td>\n",
       "      <td>0</td>\n",
       "      <td>0</td>\n",
       "      <td>0</td>\n",
       "    </tr>\n",
       "    <tr>\n",
       "      <th>4</th>\n",
       "      <td>0</td>\n",
       "      <td>0</td>\n",
       "      <td>0</td>\n",
       "      <td>0</td>\n",
       "      <td>1</td>\n",
       "      <td>0</td>\n",
       "      <td>0</td>\n",
       "      <td>0</td>\n",
       "      <td>0</td>\n",
       "      <td>0</td>\n",
       "      <td>...</td>\n",
       "      <td>0</td>\n",
       "      <td>0</td>\n",
       "      <td>0</td>\n",
       "      <td>0</td>\n",
       "      <td>0</td>\n",
       "      <td>0</td>\n",
       "      <td>0</td>\n",
       "      <td>0</td>\n",
       "      <td>0</td>\n",
       "      <td>0</td>\n",
       "    </tr>\n",
       "  </tbody>\n",
       "</table>\n",
       "<p>5 rows × 32 columns</p>\n",
       "</div>"
      ],
      "text/plain": [
       "   Amazon  ApexLegends  AssassinsCreed  Battlefield  Borderlands  CS-GO  \\\n",
       "0       0            0               0            0            1      0   \n",
       "1       0            0               0            0            1      0   \n",
       "2       0            0               0            0            1      0   \n",
       "3       0            0               0            0            1      0   \n",
       "4       0            0               0            0            1      0   \n",
       "\n",
       "   CallOfDuty  CallOfDutyBlackopsColdWar  Cyberpunk2077  Dota2  ...  \\\n",
       "0           0                          0              0      0  ...   \n",
       "1           0                          0              0      0  ...   \n",
       "2           0                          0              0      0  ...   \n",
       "3           0                          0              0      0  ...   \n",
       "4           0                          0              0      0  ...   \n",
       "\n",
       "   Overwatch  PlayStation5(PS5)  PlayerUnknownsBattlegrounds(PUBG)  \\\n",
       "0          0                  0                                  0   \n",
       "1          0                  0                                  0   \n",
       "2          0                  0                                  0   \n",
       "3          0                  0                                  0   \n",
       "4          0                  0                                  0   \n",
       "\n",
       "   RedDeadRedemption(RDR)  TomClancysGhostRecon  TomClancysRainbowSix  \\\n",
       "0                       0                     0                     0   \n",
       "1                       0                     0                     0   \n",
       "2                       0                     0                     0   \n",
       "3                       0                     0                     0   \n",
       "4                       0                     0                     0   \n",
       "\n",
       "   Verizon  WorldOfCraft  Xbox(Xseries)  johnson&johnson  \n",
       "0        0             0              0                0  \n",
       "1        0             0              0                0  \n",
       "2        0             0              0                0  \n",
       "3        0             0              0                0  \n",
       "4        0             0              0                0  \n",
       "\n",
       "[5 rows x 32 columns]"
      ]
     },
     "execution_count": 23,
     "metadata": {},
     "output_type": "execute_result"
    }
   ],
   "source": [
    "cat_data = pd.get_dummies(cat_data, columns=['platform'], prefix='', prefix_sep='')\n",
    "cat_data = cat_data.astype(int)\n",
    "cat_data.head()"
   ]
  },
  {
   "cell_type": "code",
   "execution_count": 24,
   "id": "ae485e28-e2b4-4a86-b25e-e4594d1fdd45",
   "metadata": {},
   "outputs": [],
   "source": [
    "cat_vdata = pd.get_dummies(cat_vdata, columns=['platform'], prefix='', prefix_sep='')\n",
    "cat_vdata = cat_vdata.astype(int)"
   ]
  },
  {
   "cell_type": "code",
   "execution_count": 8,
   "id": "b426ccdf-d3b2-416a-8723-20a54efdedfa",
   "metadata": {},
   "outputs": [],
   "source": [
    "# here starts the NLP operations on the review column \n",
    "# first operation stemming : which is removing prefixes and suffixes from all the words in each text in the review field \n",
    "# second noise removal : which means removing the noisy parts of the texts that do not provide any information about the nature \n",
    "# of the review like html tags and  special characters\n",
    "# and then third : removing stopwords like conjunctions and pronouns and removing punctuations  "
   ]
  },
  {
   "cell_type": "markdown",
   "id": "b62b9b91-b27f-470d-b85c-fcd7a9afa423",
   "metadata": {},
   "source": [
    "<h1><b>NLP operations starts here</b></h1>"
   ]
  },
  {
   "cell_type": "code",
   "execution_count": 25,
   "id": "d12fe0ba-cc7f-4890-a5c3-ee7d8137efd9",
   "metadata": {},
   "outputs": [
    {
     "name": "stderr",
     "output_type": "stream",
     "text": [
      "C:\\Users\\yboyk\\AppData\\Local\\Temp\\ipykernel_6532\\1830185047.py:9: MarkupResemblesLocatorWarning: The input looks more like a filename than markup. You may want to open this file and pass the filehandle into Beautiful Soup.\n",
      "  soup = BeautifulSoup(text, \"html.parser\")\n"
     ]
    }
   ],
   "source": [
    "def stemmer(text):\n",
    "    ps=nltk.porter.PorterStemmer()\n",
    "    text= ' '.join([ps.stem(word) for word in text.split()])\n",
    "    return text\n",
    "    \n",
    "\n",
    "\n",
    "def noiseremoval_text(text):\n",
    "  soup = BeautifulSoup(text, \"html.parser\")\n",
    "  text = soup.get_text()\n",
    "  text = re.sub('\\[[^]]*\\]', '', text)\n",
    "  return text\n",
    "\n",
    "data['review'] = data['review'].apply(noiseremoval_text)\n",
    "vdata['review'] = vdata['review'].apply(noiseremoval_text)\n",
    "\n",
    "data['review'] = data['review'].apply(stemmer)\n",
    "vdata['review'] = vdata['review'].apply(stemmer)"
   ]
  },
  {
   "cell_type": "code",
   "execution_count": 26,
   "id": "c05abb1a-1c6a-438a-8799-c566b5b78b38",
   "metadata": {},
   "outputs": [
    {
     "data": {
      "text/html": [
       "<div>\n",
       "<style scoped>\n",
       "    .dataframe tbody tr th:only-of-type {\n",
       "        vertical-align: middle;\n",
       "    }\n",
       "\n",
       "    .dataframe tbody tr th {\n",
       "        vertical-align: top;\n",
       "    }\n",
       "\n",
       "    .dataframe thead th {\n",
       "        text-align: right;\n",
       "    }\n",
       "</style>\n",
       "<table border=\"1\" class=\"dataframe\">\n",
       "  <thead>\n",
       "    <tr style=\"text-align: right;\">\n",
       "      <th></th>\n",
       "      <th>platform</th>\n",
       "      <th>type</th>\n",
       "      <th>review</th>\n",
       "    </tr>\n",
       "  </thead>\n",
       "  <tbody>\n",
       "    <tr>\n",
       "      <th>0</th>\n",
       "      <td>Borderlands</td>\n",
       "      <td>Positive</td>\n",
       "      <td>i am come to the border and i will kill you all,</td>\n",
       "    </tr>\n",
       "    <tr>\n",
       "      <th>1</th>\n",
       "      <td>Borderlands</td>\n",
       "      <td>Positive</td>\n",
       "      <td>im get on borderland and i will kill you all,</td>\n",
       "    </tr>\n",
       "    <tr>\n",
       "      <th>2</th>\n",
       "      <td>Borderlands</td>\n",
       "      <td>Positive</td>\n",
       "      <td>im come on borderland and i will murder you all,</td>\n",
       "    </tr>\n",
       "    <tr>\n",
       "      <th>3</th>\n",
       "      <td>Borderlands</td>\n",
       "      <td>Positive</td>\n",
       "      <td>im get on borderland 2 and i will murder you m...</td>\n",
       "    </tr>\n",
       "    <tr>\n",
       "      <th>4</th>\n",
       "      <td>Borderlands</td>\n",
       "      <td>Positive</td>\n",
       "      <td>im get into borderland and i can murder you all,</td>\n",
       "    </tr>\n",
       "  </tbody>\n",
       "</table>\n",
       "</div>"
      ],
      "text/plain": [
       "      platform      type                                             review\n",
       "0  Borderlands  Positive   i am come to the border and i will kill you all,\n",
       "1  Borderlands  Positive      im get on borderland and i will kill you all,\n",
       "2  Borderlands  Positive   im come on borderland and i will murder you all,\n",
       "3  Borderlands  Positive  im get on borderland 2 and i will murder you m...\n",
       "4  Borderlands  Positive   im get into borderland and i can murder you all,"
      ]
     },
     "execution_count": 26,
     "metadata": {},
     "output_type": "execute_result"
    }
   ],
   "source": [
    "data.head()"
   ]
  },
  {
   "cell_type": "code",
   "execution_count": 27,
   "id": "69327e51-a44e-4c71-977e-d6c68408131f",
   "metadata": {},
   "outputs": [
    {
     "data": {
      "text/html": [
       "<div>\n",
       "<style scoped>\n",
       "    .dataframe tbody tr th:only-of-type {\n",
       "        vertical-align: middle;\n",
       "    }\n",
       "\n",
       "    .dataframe tbody tr th {\n",
       "        vertical-align: top;\n",
       "    }\n",
       "\n",
       "    .dataframe thead th {\n",
       "        text-align: right;\n",
       "    }\n",
       "</style>\n",
       "<table border=\"1\" class=\"dataframe\">\n",
       "  <thead>\n",
       "    <tr style=\"text-align: right;\">\n",
       "      <th></th>\n",
       "      <th>platform</th>\n",
       "      <th>type</th>\n",
       "      <th>review</th>\n",
       "    </tr>\n",
       "  </thead>\n",
       "  <tbody>\n",
       "    <tr>\n",
       "      <th>0</th>\n",
       "      <td>Amazon</td>\n",
       "      <td>Neutral</td>\n",
       "      <td>bbc new - amazon boss jeff bezo reject claim c...</td>\n",
       "    </tr>\n",
       "    <tr>\n",
       "      <th>1</th>\n",
       "      <td>Microsoft</td>\n",
       "      <td>Negative</td>\n",
       "      <td>@microsoft whi do i pay for word when it funct...</td>\n",
       "    </tr>\n",
       "    <tr>\n",
       "      <th>2</th>\n",
       "      <td>CS-GO</td>\n",
       "      <td>Negative</td>\n",
       "      <td>csgo matchmak is so full of closet hacking, it...</td>\n",
       "    </tr>\n",
       "    <tr>\n",
       "      <th>3</th>\n",
       "      <td>Google</td>\n",
       "      <td>Neutral</td>\n",
       "      <td>now the presid is slap american in the face th...</td>\n",
       "    </tr>\n",
       "    <tr>\n",
       "      <th>4</th>\n",
       "      <td>FIFA</td>\n",
       "      <td>Negative</td>\n",
       "      <td>hi @eahelp i’v had madelein mccann in my cella...</td>\n",
       "    </tr>\n",
       "  </tbody>\n",
       "</table>\n",
       "</div>"
      ],
      "text/plain": [
       "    platform      type                                             review\n",
       "0     Amazon   Neutral  bbc new - amazon boss jeff bezo reject claim c...\n",
       "1  Microsoft  Negative  @microsoft whi do i pay for word when it funct...\n",
       "2      CS-GO  Negative  csgo matchmak is so full of closet hacking, it...\n",
       "3     Google   Neutral  now the presid is slap american in the face th...\n",
       "4       FIFA  Negative  hi @eahelp i’v had madelein mccann in my cella..."
      ]
     },
     "execution_count": 27,
     "metadata": {},
     "output_type": "execute_result"
    }
   ],
   "source": [
    "vdata.head()"
   ]
  },
  {
   "cell_type": "code",
   "execution_count": 28,
   "id": "a241527a-c604-4839-bf19-b842ceecc50d",
   "metadata": {},
   "outputs": [],
   "source": [
    "stop_wr=set(stopwords.words('english'))\n",
    "\n",
    "def remove_punc_stopword(text):\n",
    "\n",
    "    remove_punc = [word for word in text.lower() if word not in string.punctuation]\n",
    "    remove_punc = ''.join(remove_punc)\n",
    "    remove_punc = [word for word in remove_punc.split() if word not in stop_wr]\n",
    "    remove_punc = ' '.join(remove_punc)\n",
    "    return remove_punc\n",
    "    "
   ]
  },
  {
   "cell_type": "code",
   "execution_count": 29,
   "id": "a8084e0d-2cef-4b0d-8e55-dd1431aacc8f",
   "metadata": {},
   "outputs": [
    {
     "data": {
      "text/html": [
       "<div>\n",
       "<style scoped>\n",
       "    .dataframe tbody tr th:only-of-type {\n",
       "        vertical-align: middle;\n",
       "    }\n",
       "\n",
       "    .dataframe tbody tr th {\n",
       "        vertical-align: top;\n",
       "    }\n",
       "\n",
       "    .dataframe thead th {\n",
       "        text-align: right;\n",
       "    }\n",
       "</style>\n",
       "<table border=\"1\" class=\"dataframe\">\n",
       "  <thead>\n",
       "    <tr style=\"text-align: right;\">\n",
       "      <th></th>\n",
       "      <th>platform</th>\n",
       "      <th>type</th>\n",
       "      <th>review</th>\n",
       "    </tr>\n",
       "  </thead>\n",
       "  <tbody>\n",
       "    <tr>\n",
       "      <th>0</th>\n",
       "      <td>Borderlands</td>\n",
       "      <td>Positive</td>\n",
       "      <td>come border kill</td>\n",
       "    </tr>\n",
       "    <tr>\n",
       "      <th>1</th>\n",
       "      <td>Borderlands</td>\n",
       "      <td>Positive</td>\n",
       "      <td>im get borderland kill</td>\n",
       "    </tr>\n",
       "    <tr>\n",
       "      <th>2</th>\n",
       "      <td>Borderlands</td>\n",
       "      <td>Positive</td>\n",
       "      <td>im come borderland murder</td>\n",
       "    </tr>\n",
       "    <tr>\n",
       "      <th>3</th>\n",
       "      <td>Borderlands</td>\n",
       "      <td>Positive</td>\n",
       "      <td>im get borderland 2 murder</td>\n",
       "    </tr>\n",
       "    <tr>\n",
       "      <th>4</th>\n",
       "      <td>Borderlands</td>\n",
       "      <td>Positive</td>\n",
       "      <td>im get borderland murder</td>\n",
       "    </tr>\n",
       "  </tbody>\n",
       "</table>\n",
       "</div>"
      ],
      "text/plain": [
       "      platform      type                      review\n",
       "0  Borderlands  Positive            come border kill\n",
       "1  Borderlands  Positive      im get borderland kill\n",
       "2  Borderlands  Positive   im come borderland murder\n",
       "3  Borderlands  Positive  im get borderland 2 murder\n",
       "4  Borderlands  Positive    im get borderland murder"
      ]
     },
     "execution_count": 29,
     "metadata": {},
     "output_type": "execute_result"
    }
   ],
   "source": [
    "data['review'] = data['review'].apply(remove_punc_stopword)\n",
    "data.head()"
   ]
  },
  {
   "cell_type": "code",
   "execution_count": 30,
   "id": "c172260a-c7e9-41aa-8db3-87a568464edd",
   "metadata": {},
   "outputs": [
    {
     "data": {
      "text/html": [
       "<div>\n",
       "<style scoped>\n",
       "    .dataframe tbody tr th:only-of-type {\n",
       "        vertical-align: middle;\n",
       "    }\n",
       "\n",
       "    .dataframe tbody tr th {\n",
       "        vertical-align: top;\n",
       "    }\n",
       "\n",
       "    .dataframe thead th {\n",
       "        text-align: right;\n",
       "    }\n",
       "</style>\n",
       "<table border=\"1\" class=\"dataframe\">\n",
       "  <thead>\n",
       "    <tr style=\"text-align: right;\">\n",
       "      <th></th>\n",
       "      <th>platform</th>\n",
       "      <th>type</th>\n",
       "      <th>review</th>\n",
       "    </tr>\n",
       "  </thead>\n",
       "  <tbody>\n",
       "    <tr>\n",
       "      <th>0</th>\n",
       "      <td>Amazon</td>\n",
       "      <td>Neutral</td>\n",
       "      <td>bbc new amazon boss jeff bezo reject claim com...</td>\n",
       "    </tr>\n",
       "    <tr>\n",
       "      <th>1</th>\n",
       "      <td>Microsoft</td>\n",
       "      <td>Negative</td>\n",
       "      <td>microsoft whi pay word function poorli samsung...</td>\n",
       "    </tr>\n",
       "    <tr>\n",
       "      <th>2</th>\n",
       "      <td>CS-GO</td>\n",
       "      <td>Negative</td>\n",
       "      <td>csgo matchmak full closet hacking truli aw game</td>\n",
       "    </tr>\n",
       "    <tr>\n",
       "      <th>3</th>\n",
       "      <td>Google</td>\n",
       "      <td>Neutral</td>\n",
       "      <td>presid slap american face realli commit unlaw ...</td>\n",
       "    </tr>\n",
       "    <tr>\n",
       "      <th>4</th>\n",
       "      <td>FIFA</td>\n",
       "      <td>Negative</td>\n",
       "      <td>hi eahelp i’v madelein mccann cellar past 13 y...</td>\n",
       "    </tr>\n",
       "  </tbody>\n",
       "</table>\n",
       "</div>"
      ],
      "text/plain": [
       "    platform      type                                             review\n",
       "0     Amazon   Neutral  bbc new amazon boss jeff bezo reject claim com...\n",
       "1  Microsoft  Negative  microsoft whi pay word function poorli samsung...\n",
       "2      CS-GO  Negative    csgo matchmak full closet hacking truli aw game\n",
       "3     Google   Neutral  presid slap american face realli commit unlaw ...\n",
       "4       FIFA  Negative  hi eahelp i’v madelein mccann cellar past 13 y..."
      ]
     },
     "execution_count": 30,
     "metadata": {},
     "output_type": "execute_result"
    }
   ],
   "source": [
    "vdata['review'] = vdata['review'].apply(remove_punc_stopword)\n",
    "vdata.head()"
   ]
  },
  {
   "cell_type": "markdown",
   "id": "605b766b-c071-4e57-a748-90bca85303fb",
   "metadata": {},
   "source": [
    "<h1><b>converting the processed text into numbers </b></h1>"
   ]
  },
  {
   "cell_type": "code",
   "execution_count": 9,
   "id": "440f4b54-b4d1-4295-b98d-591aac7533a6",
   "metadata": {},
   "outputs": [],
   "source": [
    "# here we use the countvectorizer object to convert the review column into a sparse matrix"
   ]
  },
  {
   "cell_type": "code",
   "execution_count": 31,
   "id": "73e8339d-1681-4146-8d7b-c2f2274bbc33",
   "metadata": {},
   "outputs": [
    {
     "name": "stdout",
     "output_type": "stream",
     "text": [
      "Shape of the sparse matrix:  (73995, 1500)\n",
      "Shape of the sparse matrix:  (999, 1500)\n"
     ]
    }
   ],
   "source": [
    "cv = CountVectorizer(ngram_range=(1,1),max_features = 1500)\n",
    "\n",
    "data = cv.fit_transform(vect_data)\n",
    "vdata = cv.transform(vect_vdata)\n",
    "print(\"Shape of the sparse matrix: \", data.shape)\n",
    "print(\"Shape of the sparse matrix: \", vdata.shape)"
   ]
  },
  {
   "cell_type": "code",
   "execution_count": 32,
   "id": "266ac07f-ae2f-4571-acca-f959c8ba1705",
   "metadata": {},
   "outputs": [
    {
     "name": "stdout",
     "output_type": "stream",
     "text": [
      "0\n",
      "0\n"
     ]
    }
   ],
   "source": [
    "newdata_vect = pd.DataFrame(data.toarray(), columns=cv.get_feature_names_out())\n",
    "\n",
    "newvdata_vect = pd.DataFrame(vdata.toarray(), columns=cv.get_feature_names_out())\n",
    "\n",
    "newdata_vect.reset_index(drop=True, inplace=True)\n",
    "cat_data.reset_index(drop=True, inplace=True)\n",
    "\n",
    "\n",
    "newvdata_vect.reset_index(drop=True, inplace=True)\n",
    "cat_vdata.reset_index(drop=True, inplace=True)\n",
    "\n",
    "last_data = pd.concat([newdata_vect, cat_data], axis=1) \n",
    "last_vdata = pd.concat([newvdata_vect, cat_vdata], axis=1) \n",
    "\n",
    "print(last_data.isnull().any().sum())\n",
    "print(last_vdata.isnull().any().sum())"
   ]
  },
  {
   "cell_type": "markdown",
   "id": "420d7dd1-c9c4-452b-a062-9055bee80eff",
   "metadata": {},
   "source": [
    "<h1><b>Importing the necessary libraries</b></h1>"
   ]
  },
  {
   "cell_type": "code",
   "execution_count": 33,
   "id": "040d8f78-5d9c-4083-8bbf-fc4b9ce83ff1",
   "metadata": {},
   "outputs": [
    {
     "name": "stdout",
     "output_type": "stream",
     "text": [
      "Confusion Matrix for Multinomial Naive Bayes:\n",
      "[[ 91  26  20  34]\n",
      " [ 16 189  28  33]\n",
      " [ 28  48 165  44]\n",
      " [ 15  28  39 195]]\n",
      "Score: 64.06\n",
      "              precision    recall  f1-score   support\n",
      "\n",
      "  Irrelevant       0.61      0.53      0.57       171\n",
      "    Negative       0.65      0.71      0.68       266\n",
      "     Neutral       0.65      0.58      0.61       285\n",
      "    Positive       0.64      0.70      0.67       277\n",
      "\n",
      "    accuracy                           0.64       999\n",
      "   macro avg       0.64      0.63      0.63       999\n",
      "weighted avg       0.64      0.64      0.64       999\n",
      "\n"
     ]
    }
   ],
   "source": [
    "mnb = MultinomialNB()\n",
    "\n",
    "mnb.fit(last_data,y_train)\n",
    "predmnb = mnb.predict(last_vdata)\n",
    "\n",
    "print(\"Confusion Matrix for Multinomial Naive Bayes:\")\n",
    "print(confusion_matrix(y_test,predmnb))\n",
    "print(\"Score:\",round(accuracy_score(y_test,predmnb)*100,2))\n",
    "print(classification_report(y_test,predmnb))"
   ]
  },
  {
   "cell_type": "code",
   "execution_count": 34,
   "id": "5db05358-4d73-4a60-8d10-d4af441fffd6",
   "metadata": {},
   "outputs": [
    {
     "name": "stdout",
     "output_type": "stream",
     "text": [
      "              precision    recall  f1-score   support\n",
      "\n",
      "  Irrelevant       0.73      0.61      0.66       171\n",
      "    Negative       0.71      0.82      0.76       266\n",
      "     Neutral       0.75      0.67      0.71       285\n",
      "    Positive       0.71      0.75      0.73       277\n",
      "\n",
      "    accuracy                           0.72       999\n",
      "   macro avg       0.72      0.71      0.72       999\n",
      "weighted avg       0.72      0.72      0.72       999\n",
      "\n"
     ]
    },
    {
     "name": "stderr",
     "output_type": "stream",
     "text": [
      "C:\\Python\\Python311\\Lib\\site-packages\\sklearn\\linear_model\\_logistic.py:469: ConvergenceWarning: lbfgs failed to converge (status=1):\n",
      "STOP: TOTAL NO. of ITERATIONS REACHED LIMIT.\n",
      "\n",
      "Increase the number of iterations (max_iter) or scale the data as shown in:\n",
      "    https://scikit-learn.org/stable/modules/preprocessing.html\n",
      "Please also refer to the documentation for alternative solver options:\n",
      "    https://scikit-learn.org/stable/modules/linear_model.html#logistic-regression\n",
      "  n_iter_i = _check_optimize_result(\n"
     ]
    }
   ],
   "source": [
    "lr_cv_lg = LogisticRegression(multi_class='multinomial', solver='lbfgs').fit(last_data, y_train)\n",
    "\n",
    "print(classification_report(y_test, lr_cv_lg.predict(last_vdata)))"
   ]
  },
  {
   "cell_type": "code",
   "execution_count": 35,
   "id": "31bcd34f-dc5d-45c3-a588-6f41f5405b04",
   "metadata": {},
   "outputs": [
    {
     "name": "stdout",
     "output_type": "stream",
     "text": [
      "the accuracy for 10 ,1 is : 0.42242242242242245\n",
      "the accuracy for 10 ,2 is : 0.4214214214214214\n",
      "the accuracy for 10 ,3 is : 0.4214214214214214\n",
      "the accuracy for 10 ,4 is : 0.42042042042042044\n",
      "the accuracy for 10 ,5 is : 0.4214214214214214\n",
      "the accuracy for 25 ,1 is : 0.5675675675675675\n",
      "the accuracy for 25 ,2 is : 0.5725725725725725\n",
      "the accuracy for 25 ,3 is : 0.5705705705705706\n",
      "the accuracy for 25 ,4 is : 0.5675675675675675\n",
      "the accuracy for 25 ,5 is : 0.5595595595595596\n",
      "the accuracy for 50 ,1 is : 0.7657657657657657\n",
      "the accuracy for 50 ,2 is : 0.7657657657657657\n",
      "the accuracy for 50 ,3 is : 0.7617617617617618\n",
      "the accuracy for 50 ,4 is : 0.7567567567567568\n",
      "the accuracy for 50 ,5 is : 0.7347347347347347\n",
      "the accuracy for 100 ,1 is : 0.8808808808808809\n",
      "the accuracy for 100 ,2 is : 0.8768768768768769\n",
      "the accuracy for 100 ,3 is : 0.8768768768768769\n",
      "the accuracy for 100 ,4 is : 0.8688688688688688\n",
      "the accuracy for 100 ,5 is : 0.8488488488488488\n",
      "the accuracy for 250 ,1 is : 0.8898898898898899\n",
      "the accuracy for 250 ,2 is : 0.8898898898898899\n",
      "the accuracy for 250 ,3 is : 0.8878878878878879\n",
      "the accuracy for 250 ,4 is : 0.8808808808808809\n",
      "the accuracy for 250 ,5 is : 0.8538538538538538\n",
      "the accuracy for 500 ,1 is : 0.8898898898898899\n",
      "the accuracy for 500 ,2 is : 0.8898898898898899\n",
      "the accuracy for 500 ,3 is : 0.8878878878878879\n",
      "the accuracy for 500 ,4 is : 0.8808808808808809\n",
      "the accuracy for 500 ,5 is : 0.8538538538538538\n",
      "------------------------------------------\n",
      "| the best tree size is : (250, 1) |\n",
      "------------------------------------------\n"
     ]
    }
   ],
   "source": [
    "from itertools import product\n",
    "\n",
    "max_depth = [10, 25, 50, 100, 250, 500]\n",
    "\n",
    "min_sample = [1,2,3,4,5]\n",
    "\n",
    "combinations = list(product(max_depth, min_sample))\n",
    "\n",
    "def get_acc(c, X_train, X_test, y_train, y_test):\n",
    "    model = DecisionTreeClassifier(criterion = 'entropy', random_state = 0, max_depth = c[0],min_samples_leaf = c[1])\n",
    "    model.fit(X_train, y_train)\n",
    "    y_pred = model.predict(X_test)\n",
    "    return accuracy_score(y_test,y_pred)\n",
    "\n",
    "arr2 = []\n",
    "for c in combinations :\n",
    "    acc = get_acc(c,last_data, last_vdata, y_train, y_test)\n",
    "    print(\"the accuracy for \" + str(c[0]) + \" ,\" + str(c[1]) + \" is : \" + str(acc))\n",
    "    arr2.append([c,acc])\n",
    "\n",
    "\n",
    "best_tree_size = max(arr2, key=lambda x: x[1])[0]\n",
    "print(\"------------------------------------------\")\n",
    "print(\"| the best tree size is : \" + str(best_tree_size) + \" |\")\n",
    "print(\"------------------------------------------\")"
   ]
  },
  {
   "cell_type": "code",
   "execution_count": null,
   "id": "a7382325-5d56-410a-b2f4-aa38d3572467",
   "metadata": {},
   "outputs": [],
   "source": []
  }
 ],
 "metadata": {
  "kernelspec": {
   "display_name": "Python 3 (ipykernel)",
   "language": "python",
   "name": "python3"
  },
  "language_info": {
   "codemirror_mode": {
    "name": "ipython",
    "version": 3
   },
   "file_extension": ".py",
   "mimetype": "text/x-python",
   "name": "python",
   "nbconvert_exporter": "python",
   "pygments_lexer": "ipython3",
   "version": "3.11.5"
  }
 },
 "nbformat": 4,
 "nbformat_minor": 5
}
